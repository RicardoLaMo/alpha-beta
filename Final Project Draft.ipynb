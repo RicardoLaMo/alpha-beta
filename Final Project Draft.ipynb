{
 "cells": [
  {
   "cell_type": "code",
   "execution_count": 1,
   "id": "13315f3d",
   "metadata": {},
   "outputs": [],
   "source": [
    "import numpy as np\n",
    "import tkinter as tk\n",
    "from tkinter import messagebox"
   ]
  },
  {
   "cell_type": "code",
   "execution_count": null,
   "id": "e8226ade",
   "metadata": {},
   "outputs": [
    {
     "ename": "_IncompleteInputError",
     "evalue": "incomplete input (3841492503.py, line 114)",
     "output_type": "error",
     "traceback": [
      "\u001b[1;36m  Cell \u001b[1;32mIn[1], line 114\u001b[1;36m\u001b[0m\n\u001b[1;33m    \u001b[0m\n\u001b[1;37m    ^\u001b[0m\n\u001b[1;31m_IncompleteInputError\u001b[0m\u001b[1;31m:\u001b[0m incomplete input\n"
     ]
    }
   ],
   "source": [
    "class TicTacToe3D:\n",
    "    # Contains all the game's logic allowing for the GUI to interact with these methods to update state and display the boad\n",
    "    def __init__(self, board_size=4):\n",
    "        self.board_size= board_sizes\n",
    "        self.board=[[[\"\" for _ in range(board_size)] for _ in range(board_size)] for _ in range(board_size)]\n",
    "        self.players = [\"X\",\"O\"]\n",
    "        self.current_player_index=0\n",
    "\n",
    "    # get_current_player and switch_player help make sure that players take turns alternatingly\n",
    "    def get_current_player(self):\n",
    "        return self.players[self.current_player_index]\n",
    "\n",
    "    def switch_player(self):\n",
    "        self.curent_player_index=1-self.current_player_index\n",
    "\n",
    "    def is_valid_move(self, z, y, x):\n",
    "        # Check if coordinates are within the board's boundaries and is not clearly occupied\n",
    "        if not (0 <= z < self.board_size and 0 <= y < self.board_size and 0 <= x < self.board_size):\n",
    "            return False\n",
    "        \n",
    "        # Check if the chosen cell is empty\n",
    "        if self.board[z][y][x] != '':\n",
    "            return False\n",
    "        \n",
    "        # If all checks pass, the move is valid\n",
    "        return True\n",
    "    \n",
    "    def make_move(self, z,y,x):\n",
    "        # Allows player to make move assuming is_valid_move function passes\n",
    "        if self.is_valid_move(z,y,x):\n",
    "            self.board[z][y][x]=self.get_current_player()\n",
    "            return True\n",
    "        else:\n",
    "            return False\n",
    "    \n",
    "    def check_win(self,z,y,x):\n",
    "        # Checks for a winning scenario\n",
    "        player=self.board(z,y,x)\n",
    "        if not player:\n",
    "            return False\n",
    "        \n",
    "        # Check all possible winning lines from last move\n",
    "        winning_directions=self._get_winning_directions(z,y,x)\n",
    "        for direction in winning_directions:\n",
    "            if self._check_line(z,y,x,direction,player):\n",
    "                return True\n",
    "        return False\n",
    "    \n",
    "\n",
    "    def _get_winning_directions(self,z,y,x):\n",
    "        directions=[]\n",
    "        # Planes\n",
    "        directions.extend([(0, 1, 0), (0, 0, 1), (0, 1, 1), (0, 1, -1)]) \n",
    "\n",
    "        # Columns\n",
    "        directions.append((1, 0, 0)) # Vertical through the layers (changes in z)\n",
    "\n",
    "        # Add diagonals involving the Z-Axis\n",
    "        if y == x: \n",
    "            directions.append((1, 1, 0)) # Diagonal YX in Z planes\n",
    "        if y == (self.board_size - 1 - x): \n",
    "            directions.append((1, -1, 0)) # Anti-diagonal YX in Z planes\n",
    "        if z == y: \n",
    "            directions.append((1, 1, 0)) # Diagonal ZY in X planes\n",
    "        if z == (self.board_size - 1 - y): \n",
    "            directions.append((-1, 1, 0)) # Anti-diagonal ZY in X planes\n",
    "        if z == x: \n",
    "            directions.append((1, 0, 1)) # Diagonal ZX in Y planes\n",
    "        if z == (self.board_size - 1 - x): \n",
    "            directions.append((-1, 0, 1)) # Anti-diagonal ZX in Y planes\n",
    "        if z == y and y == x: \n",
    "            directions.append((1, 1, 1)) # Space diagonal\n",
    "        if z == (self.board_size - 1 - y) and y == x: \n",
    "            directions.append((-1, 1, 1)) # Space anti-diagonal\n",
    "        if z == (self.board_size - 1 - y) and y == (self.board_size - 1 - x): \n",
    "            directions.append((-1, 1, -1)) # Space anti-anti-diagonal\n",
    "        if z == y and y == (self.board_size - 1 - x): \n",
    "            directions.append((1, 1, -1)) # Space anti-anti-diagonal\n",
    "        return list(set(directions))\n",
    "\n",
    "    def _check_line(self, z, y, x, direction, player):\n",
    "        # Check and see if a winning line has been formed\n",
    "        dz, dy, dx = direction\n",
    "        count = 1\n",
    "        # Check forward direction\n",
    "        for i in range(1, self.board_size):\n",
    "            nz, ny, nx = z + i * dz, y + i * dy, x + i * dx\n",
    "            if 0 <= nz < self.board_size and 0 <= ny < self.board_size and 0 <= nx < self.board_size and self.board[nz][ny][nx] == player:\n",
    "                count += 1\n",
    "            else:\n",
    "                break\n",
    "        # Check backward direction\n",
    "        for i in range(1, self.board_size):\n",
    "            nz, ny, nx = z - i * dz, y - i * dy, x - i * dx\n",
    "            if 0 <= nz < self.board_size and 0 <= ny < self.board_size and 0 <= nx < self.board_size and self.board[nz][ny][nx] == player:\n",
    "                count += 1\n",
    "            else:\n",
    "                break\n",
    "        return count >= self.board_size\n",
    "\n",
    "\n",
    "    def is_board_full(self):\n",
    "    # Check and see if the board is filled (DRAW)\n",
    "        for z in range(self.board_size):\n",
    "            for y in range(self.board_size):\n",
    "                for x in range(self.board_size):\n",
    "                    if self.board[z][y][x] == '':\n",
    "                        return False\n",
    "        return True\n",
    "\n",
    "    def ai_logic(self, depth, alpha, beta,maximizing, max_depth):\n",
    "        # Function for alpha beta pruning\n",
    "\n",
    "\n"
   ]
  },
  {
   "cell_type": "code",
   "execution_count": null,
   "id": "b92b2fc7",
   "metadata": {},
   "outputs": [],
   "source": [
    "class TicTacToe_GUI:\n",
    "    def __init__(self,master):\n",
    "        self.master=master\n",
    "        master.title(\"3D Tic Tac Toe\")\n",
    "        self.game=TicTacToe3D()\n",
    "        "
   ]
  },
  {
   "cell_type": "code",
   "execution_count": null,
   "id": "7b6224e8",
   "metadata": {},
   "outputs": [
    {
     "ename": "NameError",
     "evalue": "name 'tk' is not defined",
     "output_type": "error",
     "traceback": [
      "\u001b[1;31m---------------------------------------------------------------------------\u001b[0m",
      "\u001b[1;31mNameError\u001b[0m                                 Traceback (most recent call last)",
      "Cell \u001b[1;32mIn[1], line 3\u001b[0m\n\u001b[0;32m      1\u001b[0m \u001b[38;5;66;03m# Code to Run\u001b[39;00m\n\u001b[0;32m      2\u001b[0m \u001b[38;5;28;01mif\u001b[39;00m \u001b[38;5;18m__name__\u001b[39m \u001b[38;5;241m==\u001b[39m \u001b[38;5;124m'\u001b[39m\u001b[38;5;124m__main__\u001b[39m\u001b[38;5;124m'\u001b[39m:\n\u001b[1;32m----> 3\u001b[0m     root \u001b[38;5;241m=\u001b[39m tk\u001b[38;5;241m.\u001b[39mTk()\n\u001b[0;32m      4\u001b[0m     gui \u001b[38;5;241m=\u001b[39m TicTacToeGUI(root)\n\u001b[0;32m      5\u001b[0m     root\u001b[38;5;241m.\u001b[39mmainloop()\n",
      "\u001b[1;31mNameError\u001b[0m: name 'tk' is not defined"
     ]
    }
   ],
   "source": [
    "# Code to Run Tic Tac Toe Game\n",
    "if __name__ == '__main__':\n",
    "    root = tk.Tk()\n",
    "    gui = TicTacToeGUI(root)\n",
    "    root.mainloop()"
   ]
  },
  {
   "cell_type": "code",
   "execution_count": null,
   "id": "1da71096",
   "metadata": {},
   "outputs": [],
   "source": []
  },
  {
   "cell_type": "code",
   "execution_count": null,
   "id": "2a464ea5",
   "metadata": {},
   "outputs": [],
   "source": []
  }
 ],
 "metadata": {
  "kernelspec": {
   "display_name": "base",
   "language": "python",
   "name": "python3"
  },
  "language_info": {
   "codemirror_mode": {
    "name": "ipython",
    "version": 3
   },
   "file_extension": ".py",
   "mimetype": "text/x-python",
   "name": "python",
   "nbconvert_exporter": "python",
   "pygments_lexer": "ipython3",
   "version": "3.13.5"
  }
 },
 "nbformat": 4,
 "nbformat_minor": 5
}
